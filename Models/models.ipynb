{
 "cells": [
  {
   "cell_type": "code",
   "execution_count": 1,
   "metadata": {
    "collapsed": true
   },
   "outputs": [],
   "source": [
    "from __future__ import division\n",
    "import numpy as np\n",
    "import pandas as pd\n",
    "import seaborn as sns\n",
    "import matplotlib.pyplot as plt\n",
    "\n",
    "from sklearn.model_selection import KFold\n",
    "from sklearn import linear_model\n",
    "from sklearn.model_selection import train_test_split\n",
    "from sklearn.svm import SVR\n",
    "from sklearn.metrics import mean_squared_error\n",
    "from sklearn import preprocessing\n",
    "\n",
    "%matplotlib inline\n",
    "sns.set_style('whitegrid')"
   ]
  },
  {
   "cell_type": "code",
   "execution_count": 2,
   "metadata": {
    "collapsed": true
   },
   "outputs": [],
   "source": [
    "courses = ['mmds', 'algorithms', 'compilers', 'stats']\n",
    "def read_video_data(course):\n",
    "    return pd.read_csv(\n",
    "        \"./Data/VideoEventsTables/\"+course+\"_video_events_agg_TABLE.csv\"\n",
    "    )\n",
    "def read_platform_data(course):\n",
    "    return pd.read_csv(\n",
    "        \"./Data/PlatformEvents/\"+course+\"_platform_events_agg_TABLE.csv\"\n",
    "    )\n",
    "def read_grade_data(course):\n",
    "    return pd.read_csv(\n",
    "        \"./Data/ActivityGradeTables/\" +course+\"_activity_grade_agg.csv\"\n",
    "    )"
   ]
  },
  {
   "cell_type": "code",
   "execution_count": 3,
   "metadata": {
    "collapsed": true
   },
   "outputs": [],
   "source": [
    "data = {\n",
    "    course: [read_grade_data(course), \n",
    "             read_platform_data(course).drop('Unnamed: 0', axis=1), \n",
    "             read_video_data(course).drop('Unnamed: 0', axis=1)]\n",
    "    for course in courses\n",
    "}"
   ]
  },
  {
   "cell_type": "code",
   "execution_count": null,
   "metadata": {
    "collapsed": true
   },
   "outputs": [],
   "source": []
  },
  {
   "cell_type": "markdown",
   "metadata": {},
   "source": [
    "#### First we build a Base models for each of our courses.\n",
    "---\n",
    "* For our base models, we build lasso regression and ridge regression \n",
    "models for each of our four courses.\n",
    "$$\n",
    "    \\sum_{n=1}^{m} \\left( \\theta^Tx^{(i)} - y^{(i)}\\right)^2 + \\lVert \\theta \\rVert^2_2\n",
    "$$\n",
    "$$\n",
    "    \\sum_{n=1}^{m} \\left( \\theta^Tx^{(i)} - y^{(i)}\\right)^2 + \\lVert \\theta \\rVert^2_1\n",
    "$$\n"
   ]
  },
  {
   "cell_type": "code",
   "execution_count": 4,
   "metadata": {
    "collapsed": true
   },
   "outputs": [],
   "source": [
    "'''\n",
    "We start with Mining Massive Datasets.\n",
    "'''\n",
    "def gen_training_data(course):\n",
    "    cur_course_data = data[course]\n",
    "    a = cur_course_data[0]\n",
    "    a.rename(columns={'anon_screen_name':'id'}, inplace=True)\n",
    "    b = cur_course_data[1]\n",
    "    b.rename(columns={'total':'total_platform'}, inplace=True)\n",
    "    c = cur_course_data[2]\n",
    "    c.rename(columns={'total':'total_video'}, inplace=True)\n",
    "    return pd.merge(\n",
    "        pd.merge(a, b, on='id'), c, on='id'\n",
    "    )"
   ]
  },
  {
   "cell_type": "code",
   "execution_count": 5,
   "metadata": {},
   "outputs": [
    {
     "name": "stdout",
     "output_type": "stream",
     "text": [
      "mmds (430, 17)\n",
      "algorithms (333, 17)\n",
      "compilers (2200, 17)\n",
      "stats (39616, 17)\n"
     ]
    }
   ],
   "source": [
    "for course in courses:\n",
    "    print course, gen_training_data(course).shape"
   ]
  },
  {
   "cell_type": "code",
   "execution_count": 6,
   "metadata": {
    "collapsed": true
   },
   "outputs": [],
   "source": [
    "def pre_process(data):\n",
    "    training = data\n",
    "    maxes = training.max(axis=0)\n",
    "    max_ = maxes['percent_grade']\n",
    "    max_v = maxes['total_video']\n",
    "    max_p = maxes['total_platform']\n",
    "    max_na = maxes['num_attempts']\n",
    "    \n",
    "    cols = [u'courseware', u'discussion',u'download', u'problem', u'save_user_state',\n",
    "     u'translation', u'total_platform', u'load_video', u'pause_video',\n",
    "     u'play_video',u'seek_video', u'speed_change_video', u'stop_video', u'total_video']\n",
    "    training.num_attempts = training.num_attempts / max_na\n",
    "    training.total_platform = training.total_platform / max_p\n",
    "    training.total_video = training.total_video / max_v\n",
    "    for c in cols:\n",
    "        mean = training[c].mean()\n",
    "        std =  training[c].std()\n",
    "        training[c] = training[c].apply(lambda x: (x-mean)/std)\n",
    "    training['percent_grade'] = training['percent_grade'].apply(lambda x: (x/max_)*100)\n",
    "    return training"
   ]
  },
  {
   "cell_type": "code",
   "execution_count": 7,
   "metadata": {
    "collapsed": true
   },
   "outputs": [],
   "source": [
    "all_data = [pre_process(gen_training_data(course)) for course in courses]\n",
    "all_data_merged = pd.concat(all_data)"
   ]
  },
  {
   "cell_type": "markdown",
   "metadata": {},
   "source": [
    "### 1. Baseline Models"
   ]
  },
  {
   "cell_type": "code",
   "execution_count": 11,
   "metadata": {
    "collapsed": true
   },
   "outputs": [],
   "source": [
    "from sklearn.metrics import mean_squared_error, make_scorer\n",
    "from sklearn.model_selection import learning_curve\n",
    "def baseline_model(course, model):\n",
    "    data = gen_training_data(course)\n",
    "#     training = data[['percent_grade', 'total_video', 'total_platform', 'num_attempts', 'id']]\n",
    "    training = pre_process(data)\n",
    "    Y = training['percent_grade'].values\n",
    "    X = training.drop(['percent_grade','id'], axis=1).values\n",
    "    X_train, X_test, Y_train, Y_test = train_test_split(X, Y, test_size=0.15, random_state=42)\n",
    "    model.fit(X_train, Y_train)\n",
    "    y_preds = model.predict(X_test)\n",
    "    score = mean_squared_error(Y_test, y_preds)\n",
    "    print np.sqrt(score)"
   ]
  },
  {
   "cell_type": "code",
   "execution_count": null,
   "metadata": {
    "collapsed": true
   },
   "outputs": [],
   "source": []
  },
  {
   "cell_type": "code",
   "execution_count": 96,
   "metadata": {},
   "outputs": [
    {
     "name": "stdout",
     "output_type": "stream",
     "text": [
      "Current Course is mmds\n",
      "23.6230844479\n",
      "23.601376817\n",
      "Current Course is algorithms\n",
      "19.6200511779\n",
      "19.5038661633\n",
      "Current Course is compilers\n",
      "19.3022770869\n",
      "19.3344686097\n",
      "Current Course is stats\n",
      "12.7870789698\n",
      "12.7786104242\n"
     ]
    }
   ],
   "source": [
    "for course in courses: \n",
    "    model1 = linear_model.LinearRegression()\n",
    "    model2 = linear_model.Ridge(0.8)\n",
    "    print \"Current Course is \" + course\n",
    "    baseline_model(course, model1)\n",
    "    baseline_model(course, model2)"
   ]
  },
  {
   "cell_type": "code",
   "execution_count": 32,
   "metadata": {
    "collapsed": true
   },
   "outputs": [],
   "source": [
    "def evaluate_ridge_regression(training):\n",
    "    Y = training['percent_grade'].values\n",
    "    X = training.drop(['percent_grade','id'], axis=1).values\n",
    "    train_sizes, train_scores, test_scores = learning_curve(\n",
    "        linear_model.Ridge(), X, Y, train_sizes=[0.2, 0.5, 0.7, 0.8, 0.95],\n",
    "        scoring=make_scorer(mean_squared_error), cv=6\n",
    "    )\n",
    "    train_scores_mean = np.mean(train_scores, axis=1)\n",
    "    train_scores_std = np.std(train_scores, axis=1)\n",
    "    test_scores_mean = np.mean(test_scores, axis=1)\n",
    "    test_scores_std = np.std(test_scores, axis=1)\n",
    "    plt.plot(train_sizes, np.sqrt(train_scores_mean),'o-', color='r', label='Training Score')\n",
    "    plt.plot(train_sizes, np.sqrt(test_scores_mean), 'o-', color='g', label = \"Cross Validation Score\")\n",
    "    plt.legend()\n",
    "    plt.ylabel(\"RMSE\")\n",
    "    plt.xlabel('Training Data Size')\n",
    "    plt.title(course+\" Ridge Regression Learning Curve\")\n",
    "    plt.savefig(course+'.png')\n",
    "    plt.show()\n",
    "    plt.gcf().clear()"
   ]
  },
  {
   "cell_type": "code",
   "execution_count": 33,
   "metadata": {},
   "outputs": [
    {
     "data": {
      "image/png": "[encoded data removed]",
      "text/plain": [
       "<matplotlib.figure.Figure at 0x1073a98d0>"
      ]
     },
     "metadata": {},
     "output_type": "display_data"
    },
    {
     "data": {
      "image/png": "[encoded data removed]",
      "text/plain": [
       "<matplotlib.figure.Figure at 0x10c053d50>"
      ]
     },
     "metadata": {},
     "output_type": "display_data"
    },
    {
     "data": {
      "image/png": "[encoded data removed]",
      "text/plain": [
       "<matplotlib.figure.Figure at 0x10cf07c10>"
      ]
     },
     "metadata": {},
     "output_type": "display_data"
    },
    {
     "data": {
      "image/png": "[encoded data removed]",
      "text/plain": [
       "<matplotlib.figure.Figure at 0x10c034e10>"
      ]
     },
     "metadata": {},
     "output_type": "display_data"
    },
    {
     "data": {
      "text/plain": [
       "<matplotlib.figure.Figure at 0x10cf07f50>"
      ]
     },
     "metadata": {},
     "output_type": "display_data"
    }
   ],
   "source": [
    "for course in courses: evaluate_ridge_regression(pre_process(gen_training_data(course)))\n",
    "# evaluate_ridge_regression('stats')"
   ]
  },
  {
   "cell_type": "code",
   "execution_count": null,
   "metadata": {
    "collapsed": true
   },
   "outputs": [],
   "source": []
  },
  {
   "cell_type": "markdown",
   "metadata": {},
   "source": [
    "### 2. Model Building Part (II)\n",
    "* In this section we fit and evaluate the following models:\n",
    "> * Ridge Regression with all the features. \n",
    "> * $L_2$ Regularized Polynomial regression of varying degrees.\n",
    "> * Neural Network Regression.\n",
    "\n",
    "* In the next section, we shal turn our task into a classification one.\n"
   ]
  },
  {
   "cell_type": "code",
   "execution_count": 221,
   "metadata": {},
   "outputs": [
    {
     "name": "stdout",
     "output_type": "stream",
     "text": [
      "course =  mmds\n",
      "Training score =  23.9463954374\n",
      "Hold out validation score =  23.601376817\n",
      "course =  algorithms\n",
      "Training score =  15.7293345313\n",
      "Hold out validation score =  19.5038661633\n",
      "course =  compilers\n",
      "Training score =  16.7667890415\n",
      "Hold out validation score =  19.3344686097\n",
      "course =  stats\n",
      "Training score =  13.0230830244\n",
      "Hold out validation score =  12.7786104242\n",
      "All Data\n",
      "Training score =  13.4660393931\n",
      "Hold out validation score =  13.4407796667\n"
     ]
    }
   ],
   "source": [
    "'''\n",
    "Ridge Regression With All Features.\n",
    "\n",
    "Note that we have dropped percent score.\n",
    "'''\n",
    "def full_ridge_regression(training, model):\n",
    "    Y = training['percent_grade'].values\n",
    "    X = training.drop(['percent_grade','id'], axis=1).values\n",
    "    X_train, X_test, Y_train, Y_test = train_test_split(X, Y, test_size=0.15, random_state=42)\n",
    "    model.fit(X_train, Y_train)\n",
    "    y_preds = model.predict(X_test)\n",
    "    \n",
    "    score = mean_squared_error(Y_test, y_preds)\n",
    "    training_score = mean_squared_error(Y_train, model.predict(X_train))\n",
    "    \n",
    "    print \"Training score = \", np.sqrt(training_score)\n",
    "    print \"Hold out validation score = \", np.sqrt(score)\n",
    "    \n",
    "for course in courses: \n",
    "    print \"course = \", course\n",
    "    full_ridge_regression(pre_process(gen_training_data(course)), linear_model.Ridge(0.8))\n",
    "print \"All Data\"\n",
    "# all_data_merged.drop(['new_labels'], axis=1, inplace=True)\n",
    "full_ridge_regression(all_data_merged, linear_model.Ridge(0.8))"
   ]
  },
  {
   "cell_type": "markdown",
   "metadata": {},
   "source": [
    "* Even with all the features, our RMSE is still high.\n",
    "* This is b/c we are stil trying to fit a line (more aptly, a hyperplane) to the training data.\n",
    "* Our features are not linearly related to the output variable."
   ]
  },
  {
   "cell_type": "code",
   "execution_count": null,
   "metadata": {
    "collapsed": true
   },
   "outputs": [],
   "source": []
  },
  {
   "cell_type": "code",
   "execution_count": null,
   "metadata": {
    "collapsed": true
   },
   "outputs": [],
   "source": []
  },
  {
   "cell_type": "code",
   "execution_count": 98,
   "metadata": {
    "collapsed": true
   },
   "outputs": [],
   "source": [
    "from sklearn.neighbors import KNeighborsRegressor\n",
    "def fit_non_linear(training, k, course):\n",
    "    Y = training['percent_grade'].values\n",
    "    X = training.drop(['percent_grade','id'], axis=1).values\n",
    "    X_train, X_test, Y_train, Y_test = train_test_split(X, Y, test_size=0.15, random_state=42)\n",
    "    pmodel = KNeighborsRegressor(n_neighbors=k)\n",
    "    pmodel.fit(X_train, Y_train)\n",
    "    y_preds = pmodel.predict(X_test)\n",
    "    \n",
    "    score = mean_squared_error(Y_test, y_preds)\n",
    "    training_score = mean_squared_error(Y_train, pmodel.predict(X_train))\n",
    "    \n",
    "    print course, \": RMSE on training data = \", np.sqrt(training_score)\n",
    "    print course, \": HOCV RMSE = \", np.sqrt(score)"
   ]
  },
  {
   "cell_type": "code",
   "execution_count": 222,
   "metadata": {},
   "outputs": [
    {
     "name": "stdout",
     "output_type": "stream",
     "text": [
      "mmds : RMSE on training data =  22.9328783122\n",
      "mmds : HOCV RMSE =  23.5028490389\n",
      "algorithms : RMSE on training data =  15.6417952566\n",
      "algorithms : HOCV RMSE =  20.0234058485\n",
      "compilers : RMSE on training data =  15.6357554066\n",
      "compilers : HOCV RMSE =  20.032218983\n",
      "stats : RMSE on training data =  12.1664050483\n",
      "stats : HOCV RMSE =  13.2236932489\n",
      "all data : RMSE on training data =  12.5621827596\n",
      "all data : HOCV RMSE =  13.7687895658\n"
     ]
    }
   ],
   "source": [
    "for course in courses:\n",
    "    fit_non_linear(pre_process(gen_training_data(course)), 10, course)\n",
    "fit_non_linear(all_data_merged, 10, \"all data\")"
   ]
  },
  {
   "cell_type": "code",
   "execution_count": null,
   "metadata": {
    "collapsed": true
   },
   "outputs": [],
   "source": []
  },
  {
   "cell_type": "code",
   "execution_count": null,
   "metadata": {
    "collapsed": true
   },
   "outputs": [],
   "source": []
  },
  {
   "cell_type": "code",
   "execution_count": null,
   "metadata": {
    "collapsed": true
   },
   "outputs": [],
   "source": []
  },
  {
   "cell_type": "markdown",
   "metadata": {},
   "source": [
    "### 3. Neural Network Regression."
   ]
  },
  {
   "cell_type": "code",
   "execution_count": 12,
   "metadata": {
    "collapsed": true
   },
   "outputs": [],
   "source": [
    "import tensorflow as tf"
   ]
  },
  {
   "cell_type": "code",
   "execution_count": 13,
   "metadata": {
    "collapsed": true
   },
   "outputs": [],
   "source": [
    "class MOOCPerformanceNet():\n",
    "    def layer(self, input, weight_shape, bias_shape, output=False, l=5):\n",
    "        '''\n",
    "        Defines a single Affine map layer with a\n",
    "        non linearity i.e ReLu applied at the end.\n",
    "        '''\n",
    "        w_init = tf.contrib.layers.xavier_initializer(uniform=False, seed=None, dtype=tf.float64)\n",
    "        bias_init = tf.constant_initializer(value=0)\n",
    "\n",
    "        W = tf.get_variable(\"W\", weight_shape, initializer=w_init)\n",
    "        b = tf.get_variable(\"b\", bias_shape, initializer=bias_init)\n",
    "        l2 = tf.nn.l2_loss(W)\n",
    "        return (tf.matmul(input, W) + b)+(l*l2) if output else tf.nn.relu(tf.matmul(input, W) + b)+(l*l2) \n",
    "\n",
    "    def inference(self, x):\n",
    "        '''\n",
    "        Defines a single foward pass.\n",
    "        '''\n",
    "        with tf.variable_scope(\"h_1\"):\n",
    "            h_1 = self.layer(x, [15, 225], [225])\n",
    "            \n",
    "        with tf.variable_scope(\"h_2\"):\n",
    "            h_2 = self.layer(h_1, [225, 225], [225])\n",
    "            \n",
    "        with tf.variable_scope(\"h_3\"):\n",
    "            h_3 = self.layer(h_2, [225, 75], [75])\n",
    "        \n",
    "        with tf.variable_scope('h_4'):\n",
    "            h_4 = self.layer(h_3, [75, 25], [25])\n",
    "\n",
    "        with tf.variable_scope(\"output\"):\n",
    "            output = self.layer(h_4, [25, 1], [1, 1], output=True)\n",
    "            \n",
    "        return output\n",
    "\n",
    "    def loss(self, output, y):\n",
    "        loss = tf.losses.mean_squared_error(labels=y, predictions=output)\n",
    "        return loss\n",
    "\n",
    "    def training(self, cost, global_step, lr):\n",
    "        tf.summary.scalar(\"cost\", cost)\n",
    "        optimizer = tf.train.GradientDescentOptimizer(lr)\n",
    "        train_op = optimizer.minimize(cost, global_step=global_step)\n",
    "        return train_op\n",
    "\n",
    "    def evaluate(self, output, y):\n",
    "        mse = tf.losses.mean_squared_error(y, output)\n",
    "        rmse = tf.sqrt(mse)\n",
    "        tf.summary.scalar(\"RMSE\", rmse)\n",
    "        return rmse"
   ]
  },
  {
   "cell_type": "code",
   "execution_count": 14,
   "metadata": {
    "collapsed": true
   },
   "outputs": [],
   "source": [
    "def nnreg(training, cur):\n",
    "    Y = training['percent_grade'].values\n",
    "    X = training.drop(['percent_grade','id'], axis=1).values\n",
    "    \n",
    "    X_train, X_test, Y_train, Y_test = train_test_split(X, Y, test_size=0.15, random_state=42)\n",
    "    lr = 0.01\n",
    "    n_epochs = 100\n",
    "    costs = []\n",
    "    with tf.Graph().as_default():\n",
    "        x = tf.placeholder(\"float\", [None, X_train.shape[1]])\n",
    "        y = tf.placeholder(\"float\", [None, 1])\n",
    "        \n",
    "        nn = MOOCPerformanceNet()\n",
    "\n",
    "        output = nn.inference(x)\n",
    "        cost = nn.loss(output, y)\n",
    "        global_step = tf.Variable(0, name='global_step', trainable=False)\n",
    "        train_op = nn.training(cost, global_step, lr)\n",
    "        eval_op = nn.evaluate(output, y)\n",
    "        init_op = tf.global_variables_initializer()\n",
    "\n",
    "        sess = tf.Session()\n",
    "        sess.run(init_op)\n",
    "        Y_train = Y_train.reshape(Y_train.shape[0], 1)\n",
    "        feed_dict = {x: X_train, y: Y_train}\n",
    "        for e in xrange(n_epochs):\n",
    "            sess.run(train_op, feed_dict=feed_dict)\n",
    "            cur_cost = sess.run(cost, feed_dict=feed_dict)\n",
    "            cur_cost = np.sqrt(cur_cost)\n",
    "#             if e % 100 == 0: \n",
    "#                 print \"Current RMSE = \", cur_cost\n",
    "#                 costs.append(cur_cost)\n",
    "                \n",
    "#         print \"Optimization Finished\"\n",
    "    Y_test = Y_test.reshape(Y_test.shape[0], 1)\n",
    "    test_feed_dict = {x:X_test, y:Y_test}\n",
    "    test_rmse = sess.run(eval_op, feed_dict=test_feed_dict)\n",
    "    print \"Test RMSE = \", test_rmse\n",
    "    print \"Training course is \", cur\n",
    "    for course in courses:\n",
    "        if course == cur: \n",
    "            continue\n",
    "        t = pre_process(gen_training_data(course))\n",
    "        Y_ts = t['percent_grade'].values\n",
    "        test_feed_dict = {\n",
    "            x: t.drop(['percent_grade','id'], axis=1).values,\n",
    "            y: Y_ts.reshape(Y_ts.shape[0], 1)\n",
    "        }\n",
    "        rmse = sess.run(eval_op, feed_dict=test_feed_dict)\n",
    "        print \"\\t \", course, \" rmse = \", rmse\n",
    "    return costs"
   ]
  },
  {
   "cell_type": "code",
   "execution_count": 15,
   "metadata": {},
   "outputs": [
    {
     "name": "stdout",
     "output_type": "stream",
     "text": [
      "Test RMSE =  23.4301\n",
      "Training course is  mmds\n",
      "\t  algorithms  rmse =  17.738\n",
      "\t  compilers  rmse =  17.7408\n",
      "\t  stats  rmse =  14.2846\n",
      "Test RMSE =  19.5177\n",
      "Training course is  algorithms\n",
      "\t  mmds  rmse =  24.9125\n",
      "\t  compilers  rmse =  17.3369\n",
      "\t  stats  rmse =  13.014\n",
      "Test RMSE =  19.319\n",
      "Training course is  compilers\n",
      "\t  mmds  rmse =  24.6512\n",
      "\t  algorithms  rmse =  16.8866\n",
      "\t  stats  rmse =  13.1215\n",
      "Test RMSE =  12.8008\n",
      "Training course is  stats\n",
      "\t  mmds  rmse =  24.9658\n",
      "\t  algorithms  rmse =  16.8281\n",
      "\t  compilers  rmse =  17.361\n"
     ]
    }
   ],
   "source": [
    "for course in courses:\n",
    "    nnreg(pre_process(gen_training_data(course)), course)"
   ]
  },
  {
   "cell_type": "code",
   "execution_count": 207,
   "metadata": {
    "collapsed": true
   },
   "outputs": [
    {
     "name": "stdout",
     "output_type": "stream",
     "text": [
      "Current course is  mmds\n",
      "Optimization Finished\n",
      "Test RMSE =  23.4307\n",
      "Current course is  algorithms\n",
      "Optimization Finished\n",
      "Test RMSE =  19.5419\n",
      "Current course is  compilers\n",
      "Optimization Finished\n",
      "Test RMSE =  19.3203\n",
      "Current course is  stats\n"
     ]
    },
    {
     "ename": "KeyboardInterrupt",
     "evalue": "",
     "output_type": "error",
     "traceback": [
      "\u001b[0;31m---------------------------------------------------------------------------\u001b[0m",
      "\u001b[0;31mKeyboardInterrupt\u001b[0m                         Traceback (most recent call last)",
      "\u001b[0;32m<ipython-input-207-044e79aaf51d>\u001b[0m in \u001b[0;36m<module>\u001b[0;34m()\u001b[0m\n\u001b[1;32m      1\u001b[0m \u001b[0;32mfor\u001b[0m \u001b[0mcourse\u001b[0m \u001b[0;32min\u001b[0m \u001b[0mcourses\u001b[0m\u001b[0;34m:\u001b[0m\u001b[0;34m\u001b[0m\u001b[0m\n\u001b[1;32m      2\u001b[0m     \u001b[0;32mprint\u001b[0m \u001b[0;34m\"Current course is \"\u001b[0m\u001b[0;34m,\u001b[0m \u001b[0mcourse\u001b[0m\u001b[0;34m\u001b[0m\u001b[0m\n\u001b[0;32m----> 3\u001b[0;31m     \u001b[0mnnreg\u001b[0m\u001b[0;34m(\u001b[0m\u001b[0mpre_process\u001b[0m\u001b[0;34m(\u001b[0m\u001b[0mgen_training_data\u001b[0m\u001b[0;34m(\u001b[0m\u001b[0mcourse\u001b[0m\u001b[0;34m)\u001b[0m\u001b[0;34m)\u001b[0m\u001b[0;34m)\u001b[0m\u001b[0;34m\u001b[0m\u001b[0m\n\u001b[0m",
      "\u001b[0;32m<ipython-input-206-1af640fae681>\u001b[0m in \u001b[0;36mnnreg\u001b[0;34m(training)\u001b[0m\n\u001b[1;32m     25\u001b[0m         \u001b[0mfeed_dict\u001b[0m \u001b[0;34m=\u001b[0m \u001b[0;34m{\u001b[0m\u001b[0mx\u001b[0m\u001b[0;34m:\u001b[0m \u001b[0mX_train\u001b[0m\u001b[0;34m,\u001b[0m \u001b[0my\u001b[0m\u001b[0;34m:\u001b[0m \u001b[0mY_train\u001b[0m\u001b[0;34m}\u001b[0m\u001b[0;34m\u001b[0m\u001b[0m\n\u001b[1;32m     26\u001b[0m         \u001b[0;32mfor\u001b[0m \u001b[0me\u001b[0m \u001b[0;32min\u001b[0m \u001b[0mxrange\u001b[0m\u001b[0;34m(\u001b[0m\u001b[0mn_epochs\u001b[0m\u001b[0;34m)\u001b[0m\u001b[0;34m:\u001b[0m\u001b[0;34m\u001b[0m\u001b[0m\n\u001b[0;32m---> 27\u001b[0;31m             \u001b[0msess\u001b[0m\u001b[0;34m.\u001b[0m\u001b[0mrun\u001b[0m\u001b[0;34m(\u001b[0m\u001b[0mtrain_op\u001b[0m\u001b[0;34m,\u001b[0m \u001b[0mfeed_dict\u001b[0m\u001b[0;34m=\u001b[0m\u001b[0mfeed_dict\u001b[0m\u001b[0;34m)\u001b[0m\u001b[0;34m\u001b[0m\u001b[0m\n\u001b[0m\u001b[1;32m     28\u001b[0m             \u001b[0mcur_cost\u001b[0m \u001b[0;34m=\u001b[0m \u001b[0msess\u001b[0m\u001b[0;34m.\u001b[0m\u001b[0mrun\u001b[0m\u001b[0;34m(\u001b[0m\u001b[0mcost\u001b[0m\u001b[0;34m,\u001b[0m \u001b[0mfeed_dict\u001b[0m\u001b[0;34m=\u001b[0m\u001b[0mfeed_dict\u001b[0m\u001b[0;34m)\u001b[0m\u001b[0;34m\u001b[0m\u001b[0m\n\u001b[1;32m     29\u001b[0m             \u001b[0mcur_cost\u001b[0m \u001b[0;34m=\u001b[0m \u001b[0mnp\u001b[0m\u001b[0;34m.\u001b[0m\u001b[0msqrt\u001b[0m\u001b[0;34m(\u001b[0m\u001b[0mcur_cost\u001b[0m\u001b[0;34m)\u001b[0m\u001b[0;34m\u001b[0m\u001b[0m\n",
      "\u001b[0;32m/Users/likhuva/anaconda2/lib/python2.7/site-packages/tensorflow/python/client/session.pyc\u001b[0m in \u001b[0;36mrun\u001b[0;34m(self, fetches, feed_dict, options, run_metadata)\u001b[0m\n\u001b[1;32m    887\u001b[0m     \u001b[0;32mtry\u001b[0m\u001b[0;34m:\u001b[0m\u001b[0;34m\u001b[0m\u001b[0m\n\u001b[1;32m    888\u001b[0m       result = self._run(None, fetches, feed_dict, options_ptr,\n\u001b[0;32m--> 889\u001b[0;31m                          run_metadata_ptr)\n\u001b[0m\u001b[1;32m    890\u001b[0m       \u001b[0;32mif\u001b[0m \u001b[0mrun_metadata\u001b[0m\u001b[0;34m:\u001b[0m\u001b[0;34m\u001b[0m\u001b[0m\n\u001b[1;32m    891\u001b[0m         \u001b[0mproto_data\u001b[0m \u001b[0;34m=\u001b[0m \u001b[0mtf_session\u001b[0m\u001b[0;34m.\u001b[0m\u001b[0mTF_GetBuffer\u001b[0m\u001b[0;34m(\u001b[0m\u001b[0mrun_metadata_ptr\u001b[0m\u001b[0;34m)\u001b[0m\u001b[0;34m\u001b[0m\u001b[0m\n",
      "\u001b[0;32m/Users/likhuva/anaconda2/lib/python2.7/site-packages/tensorflow/python/client/session.pyc\u001b[0m in \u001b[0;36m_run\u001b[0;34m(self, handle, fetches, feed_dict, options, run_metadata)\u001b[0m\n\u001b[1;32m   1118\u001b[0m     \u001b[0;32mif\u001b[0m \u001b[0mfinal_fetches\u001b[0m \u001b[0;32mor\u001b[0m \u001b[0mfinal_targets\u001b[0m \u001b[0;32mor\u001b[0m \u001b[0;34m(\u001b[0m\u001b[0mhandle\u001b[0m \u001b[0;32mand\u001b[0m \u001b[0mfeed_dict_tensor\u001b[0m\u001b[0;34m)\u001b[0m\u001b[0;34m:\u001b[0m\u001b[0;34m\u001b[0m\u001b[0m\n\u001b[1;32m   1119\u001b[0m       results = self._do_run(handle, final_targets, final_fetches,\n\u001b[0;32m-> 1120\u001b[0;31m                              feed_dict_tensor, options, run_metadata)\n\u001b[0m\u001b[1;32m   1121\u001b[0m     \u001b[0;32melse\u001b[0m\u001b[0;34m:\u001b[0m\u001b[0;34m\u001b[0m\u001b[0m\n\u001b[1;32m   1122\u001b[0m       \u001b[0mresults\u001b[0m \u001b[0;34m=\u001b[0m \u001b[0;34m[\u001b[0m\u001b[0;34m]\u001b[0m\u001b[0;34m\u001b[0m\u001b[0m\n",
      "\u001b[0;32m/Users/likhuva/anaconda2/lib/python2.7/site-packages/tensorflow/python/client/session.pyc\u001b[0m in \u001b[0;36m_do_run\u001b[0;34m(self, handle, target_list, fetch_list, feed_dict, options, run_metadata)\u001b[0m\n\u001b[1;32m   1315\u001b[0m     \u001b[0;32mif\u001b[0m \u001b[0mhandle\u001b[0m \u001b[0;32mis\u001b[0m \u001b[0mNone\u001b[0m\u001b[0;34m:\u001b[0m\u001b[0;34m\u001b[0m\u001b[0m\n\u001b[1;32m   1316\u001b[0m       return self._do_call(_run_fn, self._session, feeds, fetches, targets,\n\u001b[0;32m-> 1317\u001b[0;31m                            options, run_metadata)\n\u001b[0m\u001b[1;32m   1318\u001b[0m     \u001b[0;32melse\u001b[0m\u001b[0;34m:\u001b[0m\u001b[0;34m\u001b[0m\u001b[0m\n\u001b[1;32m   1319\u001b[0m       \u001b[0;32mreturn\u001b[0m \u001b[0mself\u001b[0m\u001b[0;34m.\u001b[0m\u001b[0m_do_call\u001b[0m\u001b[0;34m(\u001b[0m\u001b[0m_prun_fn\u001b[0m\u001b[0;34m,\u001b[0m \u001b[0mself\u001b[0m\u001b[0;34m.\u001b[0m\u001b[0m_session\u001b[0m\u001b[0;34m,\u001b[0m \u001b[0mhandle\u001b[0m\u001b[0;34m,\u001b[0m \u001b[0mfeeds\u001b[0m\u001b[0;34m,\u001b[0m \u001b[0mfetches\u001b[0m\u001b[0;34m)\u001b[0m\u001b[0;34m\u001b[0m\u001b[0m\n",
      "\u001b[0;32m/Users/likhuva/anaconda2/lib/python2.7/site-packages/tensorflow/python/client/session.pyc\u001b[0m in \u001b[0;36m_do_call\u001b[0;34m(self, fn, *args)\u001b[0m\n\u001b[1;32m   1321\u001b[0m   \u001b[0;32mdef\u001b[0m \u001b[0m_do_call\u001b[0m\u001b[0;34m(\u001b[0m\u001b[0mself\u001b[0m\u001b[0;34m,\u001b[0m \u001b[0mfn\u001b[0m\u001b[0;34m,\u001b[0m \u001b[0;34m*\u001b[0m\u001b[0margs\u001b[0m\u001b[0;34m)\u001b[0m\u001b[0;34m:\u001b[0m\u001b[0;34m\u001b[0m\u001b[0m\n\u001b[1;32m   1322\u001b[0m     \u001b[0;32mtry\u001b[0m\u001b[0;34m:\u001b[0m\u001b[0;34m\u001b[0m\u001b[0m\n\u001b[0;32m-> 1323\u001b[0;31m       \u001b[0;32mreturn\u001b[0m \u001b[0mfn\u001b[0m\u001b[0;34m(\u001b[0m\u001b[0;34m*\u001b[0m\u001b[0margs\u001b[0m\u001b[0;34m)\u001b[0m\u001b[0;34m\u001b[0m\u001b[0m\n\u001b[0m\u001b[1;32m   1324\u001b[0m     \u001b[0;32mexcept\u001b[0m \u001b[0merrors\u001b[0m\u001b[0;34m.\u001b[0m\u001b[0mOpError\u001b[0m \u001b[0;32mas\u001b[0m \u001b[0me\u001b[0m\u001b[0;34m:\u001b[0m\u001b[0;34m\u001b[0m\u001b[0m\n\u001b[1;32m   1325\u001b[0m       \u001b[0mmessage\u001b[0m \u001b[0;34m=\u001b[0m \u001b[0mcompat\u001b[0m\u001b[0;34m.\u001b[0m\u001b[0mas_text\u001b[0m\u001b[0;34m(\u001b[0m\u001b[0me\u001b[0m\u001b[0;34m.\u001b[0m\u001b[0mmessage\u001b[0m\u001b[0;34m)\u001b[0m\u001b[0;34m\u001b[0m\u001b[0m\n",
      "\u001b[0;32m/Users/likhuva/anaconda2/lib/python2.7/site-packages/tensorflow/python/client/session.pyc\u001b[0m in \u001b[0;36m_run_fn\u001b[0;34m(session, feed_dict, fetch_list, target_list, options, run_metadata)\u001b[0m\n\u001b[1;32m   1300\u001b[0m           return tf_session.TF_Run(session, options,\n\u001b[1;32m   1301\u001b[0m                                    \u001b[0mfeed_dict\u001b[0m\u001b[0;34m,\u001b[0m \u001b[0mfetch_list\u001b[0m\u001b[0;34m,\u001b[0m \u001b[0mtarget_list\u001b[0m\u001b[0;34m,\u001b[0m\u001b[0;34m\u001b[0m\u001b[0m\n\u001b[0;32m-> 1302\u001b[0;31m                                    status, run_metadata)\n\u001b[0m\u001b[1;32m   1303\u001b[0m \u001b[0;34m\u001b[0m\u001b[0m\n\u001b[1;32m   1304\u001b[0m     \u001b[0;32mdef\u001b[0m \u001b[0m_prun_fn\u001b[0m\u001b[0;34m(\u001b[0m\u001b[0msession\u001b[0m\u001b[0;34m,\u001b[0m \u001b[0mhandle\u001b[0m\u001b[0;34m,\u001b[0m \u001b[0mfeed_dict\u001b[0m\u001b[0;34m,\u001b[0m \u001b[0mfetch_list\u001b[0m\u001b[0;34m)\u001b[0m\u001b[0;34m:\u001b[0m\u001b[0;34m\u001b[0m\u001b[0m\n",
      "\u001b[0;31mKeyboardInterrupt\u001b[0m: "
     ]
    }
   ],
   "source": [
    "for course in courses:\n",
    "    print \"Current course is \", course\n",
    "    nnreg(pre_process(gen_training_data(course)))"
   ]
  },
  {
   "cell_type": "code",
   "execution_count": 229,
   "metadata": {},
   "outputs": [
    {
     "name": "stdout",
     "output_type": "stream",
     "text": [
      "Current RMSE =  999.357\n",
      "Optimization Finished\n",
      "Test RMSE =  13.4579\n"
     ]
    },
    {
     "data": {
      "text/plain": [
       "[]"
      ]
     },
     "execution_count": 229,
     "metadata": {},
     "output_type": "execute_result"
    }
   ],
   "source": [
    "nnreg(all_data_merged)"
   ]
  },
  {
   "cell_type": "code",
   "execution_count": null,
   "metadata": {
    "collapsed": true
   },
   "outputs": [],
   "source": []
  },
  {
   "cell_type": "markdown",
   "metadata": {},
   "source": [
    "### 4. Transform Problem To Classification"
   ]
  },
  {
   "cell_type": "code",
   "execution_count": 8,
   "metadata": {
    "collapsed": true
   },
   "outputs": [],
   "source": [
    "def discretize(training_data):\n",
    "    bins = [-0.99, 25, 50, 75, 100]\n",
    "    grade_bins = ['D', 'C', 'B', 'A']\n",
    "    training_data['new_labels'] = pd.cut(\n",
    "        training_data['percent_grade'], \n",
    "        bins, labels=grade_bins\n",
    "    )"
   ]
  },
  {
   "cell_type": "code",
   "execution_count": null,
   "metadata": {
    "collapsed": true
   },
   "outputs": [],
   "source": []
  },
  {
   "cell_type": "code",
   "execution_count": 9,
   "metadata": {},
   "outputs": [
    {
     "data": {
      "text/html": [
       "<div>\n",
       "<table border=\"1\" class=\"dataframe\">\n",
       "  <thead>\n",
       "    <tr style=\"text-align: right;\">\n",
       "      <th></th>\n",
       "      <th>id</th>\n",
       "      <th>num_attempts</th>\n",
       "      <th>percent_grade</th>\n",
       "      <th>courseware</th>\n",
       "      <th>discussion</th>\n",
       "      <th>download</th>\n",
       "      <th>problem</th>\n",
       "      <th>save_user_state</th>\n",
       "      <th>translation</th>\n",
       "      <th>total_platform</th>\n",
       "      <th>load_video</th>\n",
       "      <th>pause_video</th>\n",
       "      <th>play_video</th>\n",
       "      <th>seek_video</th>\n",
       "      <th>speed_change_video</th>\n",
       "      <th>stop_video</th>\n",
       "      <th>total_video</th>\n",
       "      <th>new_labels</th>\n",
       "    </tr>\n",
       "  </thead>\n",
       "  <tbody>\n",
       "    <tr>\n",
       "      <th>36307</th>\n",
       "      <td>ea6aa13ec7684dfcb93463c8b787742109e0d66c</td>\n",
       "      <td>0.114286</td>\n",
       "      <td>0.429185</td>\n",
       "      <td>-0.116797</td>\n",
       "      <td>-0.048916</td>\n",
       "      <td>-0.105359</td>\n",
       "      <td>-0.324338</td>\n",
       "      <td>-0.324307</td>\n",
       "      <td>-0.475448</td>\n",
       "      <td>-0.378172</td>\n",
       "      <td>-0.266013</td>\n",
       "      <td>-0.259983</td>\n",
       "      <td>-0.096850</td>\n",
       "      <td>-0.240071</td>\n",
       "      <td>-0.064353</td>\n",
       "      <td>-0.016621</td>\n",
       "      <td>-0.073611</td>\n",
       "      <td>D</td>\n",
       "    </tr>\n",
       "    <tr>\n",
       "      <th>11363</th>\n",
       "      <td>468cdc4bae8efef552f6ee387a0be426815538f0</td>\n",
       "      <td>0.057143</td>\n",
       "      <td>21.888412</td>\n",
       "      <td>-0.237431</td>\n",
       "      <td>-0.048916</td>\n",
       "      <td>-0.105359</td>\n",
       "      <td>-0.324338</td>\n",
       "      <td>-0.324307</td>\n",
       "      <td>0.021794</td>\n",
       "      <td>-0.374369</td>\n",
       "      <td>-0.266013</td>\n",
       "      <td>-0.253893</td>\n",
       "      <td>-0.099152</td>\n",
       "      <td>-0.276311</td>\n",
       "      <td>-0.187544</td>\n",
       "      <td>-0.016941</td>\n",
       "      <td>-0.075903</td>\n",
       "      <td>D</td>\n",
       "    </tr>\n",
       "    <tr>\n",
       "      <th>2201</th>\n",
       "      <td>0de4238013721256f6df7727ec8bea747eb24f2d</td>\n",
       "      <td>0.057143</td>\n",
       "      <td>24.034335</td>\n",
       "      <td>-0.237431</td>\n",
       "      <td>-0.041423</td>\n",
       "      <td>-0.105359</td>\n",
       "      <td>-0.324338</td>\n",
       "      <td>-0.319723</td>\n",
       "      <td>-0.456323</td>\n",
       "      <td>-0.418114</td>\n",
       "      <td>-0.266013</td>\n",
       "      <td>-0.266073</td>\n",
       "      <td>-0.100686</td>\n",
       "      <td>-0.276311</td>\n",
       "      <td>-0.064353</td>\n",
       "      <td>-0.016941</td>\n",
       "      <td>-0.076762</td>\n",
       "      <td>D</td>\n",
       "    </tr>\n",
       "    <tr>\n",
       "      <th>2043</th>\n",
       "      <td>0cb082c6d6b34a69d85c0ab05cce500c85419c45</td>\n",
       "      <td>0.057143</td>\n",
       "      <td>0.429185</td>\n",
       "      <td>-0.237431</td>\n",
       "      <td>-0.048916</td>\n",
       "      <td>-0.105359</td>\n",
       "      <td>-0.324338</td>\n",
       "      <td>-0.324307</td>\n",
       "      <td>0.289540</td>\n",
       "      <td>-0.347741</td>\n",
       "      <td>-0.266013</td>\n",
       "      <td>-0.266073</td>\n",
       "      <td>-0.096850</td>\n",
       "      <td>-0.276311</td>\n",
       "      <td>-0.187544</td>\n",
       "      <td>-0.016941</td>\n",
       "      <td>-0.075616</td>\n",
       "      <td>D</td>\n",
       "    </tr>\n",
       "    <tr>\n",
       "      <th>33680</th>\n",
       "      <td>d922db088e02755dba305112ba62d396e1b70197</td>\n",
       "      <td>0.057143</td>\n",
       "      <td>22.746781</td>\n",
       "      <td>-0.237431</td>\n",
       "      <td>-0.048916</td>\n",
       "      <td>-0.105359</td>\n",
       "      <td>-0.324338</td>\n",
       "      <td>-0.319723</td>\n",
       "      <td>-0.456323</td>\n",
       "      <td>-0.420016</td>\n",
       "      <td>0.322862</td>\n",
       "      <td>-0.028576</td>\n",
       "      <td>-0.050821</td>\n",
       "      <td>-0.031689</td>\n",
       "      <td>0.305218</td>\n",
       "      <td>-0.015982</td>\n",
       "      <td>-0.031788</td>\n",
       "      <td>D</td>\n",
       "    </tr>\n",
       "    <tr>\n",
       "      <th>36417</th>\n",
       "      <td>eb06715ef14ff4a3be9d8375f5abb40208f46795</td>\n",
       "      <td>0.057143</td>\n",
       "      <td>1.716738</td>\n",
       "      <td>-0.237431</td>\n",
       "      <td>-0.048916</td>\n",
       "      <td>-0.105359</td>\n",
       "      <td>-0.324338</td>\n",
       "      <td>-0.324307</td>\n",
       "      <td>-0.341575</td>\n",
       "      <td>-0.410506</td>\n",
       "      <td>-0.266013</td>\n",
       "      <td>-0.217356</td>\n",
       "      <td>-0.091480</td>\n",
       "      <td>-0.276311</td>\n",
       "      <td>0.058837</td>\n",
       "      <td>-0.016621</td>\n",
       "      <td>-0.070460</td>\n",
       "      <td>D</td>\n",
       "    </tr>\n",
       "    <tr>\n",
       "      <th>8145</th>\n",
       "      <td>327377e9eb7a993745f910923290abb13ee31c61</td>\n",
       "      <td>0.057143</td>\n",
       "      <td>8.583691</td>\n",
       "      <td>-0.237431</td>\n",
       "      <td>-0.048916</td>\n",
       "      <td>-0.105359</td>\n",
       "      <td>-0.324338</td>\n",
       "      <td>-0.131768</td>\n",
       "      <td>-0.150328</td>\n",
       "      <td>-0.311603</td>\n",
       "      <td>-0.266013</td>\n",
       "      <td>-0.266073</td>\n",
       "      <td>-0.086877</td>\n",
       "      <td>-0.167590</td>\n",
       "      <td>-0.187544</td>\n",
       "      <td>-0.016302</td>\n",
       "      <td>-0.067882</td>\n",
       "      <td>D</td>\n",
       "    </tr>\n",
       "    <tr>\n",
       "      <th>8341</th>\n",
       "      <td>33e13f2ac76dae9eeadbd2c4bc776b212e6d3b58</td>\n",
       "      <td>0.057143</td>\n",
       "      <td>12.875536</td>\n",
       "      <td>-0.227378</td>\n",
       "      <td>-0.048916</td>\n",
       "      <td>-0.105359</td>\n",
       "      <td>-0.324338</td>\n",
       "      <td>-0.324307</td>\n",
       "      <td>-0.475448</td>\n",
       "      <td>-0.420016</td>\n",
       "      <td>-0.059907</td>\n",
       "      <td>-0.180818</td>\n",
       "      <td>-0.083809</td>\n",
       "      <td>-0.221950</td>\n",
       "      <td>-0.187544</td>\n",
       "      <td>-0.016302</td>\n",
       "      <td>-0.062439</td>\n",
       "      <td>D</td>\n",
       "    </tr>\n",
       "    <tr>\n",
       "      <th>10872</th>\n",
       "      <td>434f66599ea35b28222e563ffad8a3df253faafa</td>\n",
       "      <td>0.057143</td>\n",
       "      <td>15.021459</td>\n",
       "      <td>-0.237431</td>\n",
       "      <td>-0.048916</td>\n",
       "      <td>-0.105359</td>\n",
       "      <td>-0.288626</td>\n",
       "      <td>-0.324307</td>\n",
       "      <td>-0.475448</td>\n",
       "      <td>-0.408604</td>\n",
       "      <td>-0.266013</td>\n",
       "      <td>0.409879</td>\n",
       "      <td>0.009784</td>\n",
       "      <td>-0.276311</td>\n",
       "      <td>-0.187544</td>\n",
       "      <td>0.001926</td>\n",
       "      <td>0.012899</td>\n",
       "      <td>D</td>\n",
       "    </tr>\n",
       "    <tr>\n",
       "      <th>3839</th>\n",
       "      <td>1889cb28adbe6e38e7965ecebb014226f77e4794</td>\n",
       "      <td>0.133333</td>\n",
       "      <td>0.858369</td>\n",
       "      <td>-0.237431</td>\n",
       "      <td>-0.048916</td>\n",
       "      <td>-0.105359</td>\n",
       "      <td>-0.324338</td>\n",
       "      <td>-0.324307</td>\n",
       "      <td>-0.418074</td>\n",
       "      <td>-0.418114</td>\n",
       "      <td>-0.266013</td>\n",
       "      <td>-0.235624</td>\n",
       "      <td>-0.094549</td>\n",
       "      <td>-0.104169</td>\n",
       "      <td>-0.187544</td>\n",
       "      <td>-0.016621</td>\n",
       "      <td>-0.067595</td>\n",
       "      <td>D</td>\n",
       "    </tr>\n",
       "  </tbody>\n",
       "</table>\n",
       "</div>"
      ],
      "text/plain": [
       "                                             id  num_attempts  percent_grade  \\\n",
       "36307  ea6aa13ec7684dfcb93463c8b787742109e0d66c      0.114286       0.429185   \n",
       "11363  468cdc4bae8efef552f6ee387a0be426815538f0      0.057143      21.888412   \n",
       "2201   0de4238013721256f6df7727ec8bea747eb24f2d      0.057143      24.034335   \n",
       "2043   0cb082c6d6b34a69d85c0ab05cce500c85419c45      0.057143       0.429185   \n",
       "33680  d922db088e02755dba305112ba62d396e1b70197      0.057143      22.746781   \n",
       "36417  eb06715ef14ff4a3be9d8375f5abb40208f46795      0.057143       1.716738   \n",
       "8145   327377e9eb7a993745f910923290abb13ee31c61      0.057143       8.583691   \n",
       "8341   33e13f2ac76dae9eeadbd2c4bc776b212e6d3b58      0.057143      12.875536   \n",
       "10872  434f66599ea35b28222e563ffad8a3df253faafa      0.057143      15.021459   \n",
       "3839   1889cb28adbe6e38e7965ecebb014226f77e4794      0.133333       0.858369   \n",
       "\n",
       "       courseware  discussion  download   problem  save_user_state  \\\n",
       "36307   -0.116797   -0.048916 -0.105359 -0.324338        -0.324307   \n",
       "11363   -0.237431   -0.048916 -0.105359 -0.324338        -0.324307   \n",
       "2201    -0.237431   -0.041423 -0.105359 -0.324338        -0.319723   \n",
       "2043    -0.237431   -0.048916 -0.105359 -0.324338        -0.324307   \n",
       "33680   -0.237431   -0.048916 -0.105359 -0.324338        -0.319723   \n",
       "36417   -0.237431   -0.048916 -0.105359 -0.324338        -0.324307   \n",
       "8145    -0.237431   -0.048916 -0.105359 -0.324338        -0.131768   \n",
       "8341    -0.227378   -0.048916 -0.105359 -0.324338        -0.324307   \n",
       "10872   -0.237431   -0.048916 -0.105359 -0.288626        -0.324307   \n",
       "3839    -0.237431   -0.048916 -0.105359 -0.324338        -0.324307   \n",
       "\n",
       "       translation  total_platform  load_video  pause_video  play_video  \\\n",
       "36307    -0.475448       -0.378172   -0.266013    -0.259983   -0.096850   \n",
       "11363     0.021794       -0.374369   -0.266013    -0.253893   -0.099152   \n",
       "2201     -0.456323       -0.418114   -0.266013    -0.266073   -0.100686   \n",
       "2043      0.289540       -0.347741   -0.266013    -0.266073   -0.096850   \n",
       "33680    -0.456323       -0.420016    0.322862    -0.028576   -0.050821   \n",
       "36417    -0.341575       -0.410506   -0.266013    -0.217356   -0.091480   \n",
       "8145     -0.150328       -0.311603   -0.266013    -0.266073   -0.086877   \n",
       "8341     -0.475448       -0.420016   -0.059907    -0.180818   -0.083809   \n",
       "10872    -0.475448       -0.408604   -0.266013     0.409879    0.009784   \n",
       "3839     -0.418074       -0.418114   -0.266013    -0.235624   -0.094549   \n",
       "\n",
       "       seek_video  speed_change_video  stop_video  total_video new_labels  \n",
       "36307   -0.240071           -0.064353   -0.016621    -0.073611          D  \n",
       "11363   -0.276311           -0.187544   -0.016941    -0.075903          D  \n",
       "2201    -0.276311           -0.064353   -0.016941    -0.076762          D  \n",
       "2043    -0.276311           -0.187544   -0.016941    -0.075616          D  \n",
       "33680   -0.031689            0.305218   -0.015982    -0.031788          D  \n",
       "36417   -0.276311            0.058837   -0.016621    -0.070460          D  \n",
       "8145    -0.167590           -0.187544   -0.016302    -0.067882          D  \n",
       "8341    -0.221950           -0.187544   -0.016302    -0.062439          D  \n",
       "10872   -0.276311           -0.187544    0.001926     0.012899          D  \n",
       "3839    -0.104169           -0.187544   -0.016621    -0.067595          D  "
      ]
     },
     "execution_count": 9,
     "metadata": {},
     "output_type": "execute_result"
    }
   ],
   "source": [
    "discretize(all_data_merged)\n",
    "all_data_merged.sample(n=10)"
   ]
  },
  {
   "cell_type": "code",
   "execution_count": 10,
   "metadata": {
    "scrolled": true
   },
   "outputs": [
    {
     "data": {
      "text/html": [
       "<div>\n",
       "<table border=\"1\" class=\"dataframe\">\n",
       "  <thead>\n",
       "    <tr style=\"text-align: right;\">\n",
       "      <th></th>\n",
       "      <th>id</th>\n",
       "      <th>num_attempts</th>\n",
       "      <th>percent_grade</th>\n",
       "      <th>courseware</th>\n",
       "      <th>discussion</th>\n",
       "      <th>download</th>\n",
       "      <th>problem</th>\n",
       "      <th>save_user_state</th>\n",
       "      <th>translation</th>\n",
       "      <th>total_platform</th>\n",
       "      <th>load_video</th>\n",
       "      <th>pause_video</th>\n",
       "      <th>play_video</th>\n",
       "      <th>seek_video</th>\n",
       "      <th>speed_change_video</th>\n",
       "      <th>stop_video</th>\n",
       "      <th>total_video</th>\n",
       "      <th>new_labels</th>\n",
       "    </tr>\n",
       "  </thead>\n",
       "  <tbody>\n",
       "    <tr>\n",
       "      <th>217</th>\n",
       "      <td>88417599004f0fb4b940d865f73695cb72a45e87</td>\n",
       "      <td>0.078125</td>\n",
       "      <td>100.0</td>\n",
       "      <td>-0.174126</td>\n",
       "      <td>-0.201805</td>\n",
       "      <td>-0.064274</td>\n",
       "      <td>-0.141934</td>\n",
       "      <td>-0.201589</td>\n",
       "      <td>-0.311882</td>\n",
       "      <td>-0.256824</td>\n",
       "      <td>-0.213024</td>\n",
       "      <td>-0.284592</td>\n",
       "      <td>-0.215170</td>\n",
       "      <td>-0.239311</td>\n",
       "      <td>-0.171799</td>\n",
       "      <td>-0.122492</td>\n",
       "      <td>-0.282227</td>\n",
       "      <td>A</td>\n",
       "    </tr>\n",
       "    <tr>\n",
       "      <th>179</th>\n",
       "      <td>9c846ff8ddfaf3391c4a4808ec3e61908dc278d6</td>\n",
       "      <td>0.055556</td>\n",
       "      <td>100.0</td>\n",
       "      <td>-0.158288</td>\n",
       "      <td>-0.349371</td>\n",
       "      <td>-0.137879</td>\n",
       "      <td>-0.276179</td>\n",
       "      <td>-0.195315</td>\n",
       "      <td>0.000612</td>\n",
       "      <td>-0.249843</td>\n",
       "      <td>-0.249351</td>\n",
       "      <td>-0.317709</td>\n",
       "      <td>-0.321580</td>\n",
       "      <td>0.353524</td>\n",
       "      <td>0.234122</td>\n",
       "      <td>-0.084599</td>\n",
       "      <td>-0.130965</td>\n",
       "      <td>A</td>\n",
       "    </tr>\n",
       "    <tr>\n",
       "      <th>293</th>\n",
       "      <td>24b01458f28b154db5ca5b96ad99d366cfa714ef</td>\n",
       "      <td>0.069752</td>\n",
       "      <td>100.0</td>\n",
       "      <td>-0.248762</td>\n",
       "      <td>-0.135775</td>\n",
       "      <td>-0.088366</td>\n",
       "      <td>-0.209012</td>\n",
       "      <td>-0.307642</td>\n",
       "      <td>-0.389314</td>\n",
       "      <td>-0.364740</td>\n",
       "      <td>-0.077175</td>\n",
       "      <td>-0.170872</td>\n",
       "      <td>-0.216948</td>\n",
       "      <td>-0.077419</td>\n",
       "      <td>1.093020</td>\n",
       "      <td>-0.039367</td>\n",
       "      <td>-0.191040</td>\n",
       "      <td>A</td>\n",
       "    </tr>\n",
       "    <tr>\n",
       "      <th>294</th>\n",
       "      <td>24b01458f28b154db5ca5b96ad99d366cfa714ef</td>\n",
       "      <td>0.069752</td>\n",
       "      <td>100.0</td>\n",
       "      <td>-0.151345</td>\n",
       "      <td>-0.135775</td>\n",
       "      <td>-0.088366</td>\n",
       "      <td>-0.209012</td>\n",
       "      <td>-0.307642</td>\n",
       "      <td>-0.389314</td>\n",
       "      <td>-0.337385</td>\n",
       "      <td>-0.077175</td>\n",
       "      <td>-0.170872</td>\n",
       "      <td>-0.216948</td>\n",
       "      <td>-0.077419</td>\n",
       "      <td>1.093020</td>\n",
       "      <td>-0.039367</td>\n",
       "      <td>-0.191040</td>\n",
       "      <td>A</td>\n",
       "    </tr>\n",
       "    <tr>\n",
       "      <th>32255</th>\n",
       "      <td>cfcdfddad0466d44fbac1bbd3736f74aca1c7d5a</td>\n",
       "      <td>0.057143</td>\n",
       "      <td>100.0</td>\n",
       "      <td>-0.237431</td>\n",
       "      <td>-0.048916</td>\n",
       "      <td>-0.105359</td>\n",
       "      <td>-0.315410</td>\n",
       "      <td>-0.324307</td>\n",
       "      <td>-0.475448</td>\n",
       "      <td>-0.420016</td>\n",
       "      <td>-0.266013</td>\n",
       "      <td>-0.192997</td>\n",
       "      <td>-0.089179</td>\n",
       "      <td>-0.240071</td>\n",
       "      <td>-0.187544</td>\n",
       "      <td>-0.014703</td>\n",
       "      <td>-0.066163</td>\n",
       "      <td>A</td>\n",
       "    </tr>\n",
       "  </tbody>\n",
       "</table>\n",
       "</div>"
      ],
      "text/plain": [
       "                                             id  num_attempts  percent_grade  \\\n",
       "217    88417599004f0fb4b940d865f73695cb72a45e87      0.078125          100.0   \n",
       "179    9c846ff8ddfaf3391c4a4808ec3e61908dc278d6      0.055556          100.0   \n",
       "293    24b01458f28b154db5ca5b96ad99d366cfa714ef      0.069752          100.0   \n",
       "294    24b01458f28b154db5ca5b96ad99d366cfa714ef      0.069752          100.0   \n",
       "32255  cfcdfddad0466d44fbac1bbd3736f74aca1c7d5a      0.057143          100.0   \n",
       "\n",
       "       courseware  discussion  download   problem  save_user_state  \\\n",
       "217     -0.174126   -0.201805 -0.064274 -0.141934        -0.201589   \n",
       "179     -0.158288   -0.349371 -0.137879 -0.276179        -0.195315   \n",
       "293     -0.248762   -0.135775 -0.088366 -0.209012        -0.307642   \n",
       "294     -0.151345   -0.135775 -0.088366 -0.209012        -0.307642   \n",
       "32255   -0.237431   -0.048916 -0.105359 -0.315410        -0.324307   \n",
       "\n",
       "       translation  total_platform  load_video  pause_video  play_video  \\\n",
       "217      -0.311882       -0.256824   -0.213024    -0.284592   -0.215170   \n",
       "179       0.000612       -0.249843   -0.249351    -0.317709   -0.321580   \n",
       "293      -0.389314       -0.364740   -0.077175    -0.170872   -0.216948   \n",
       "294      -0.389314       -0.337385   -0.077175    -0.170872   -0.216948   \n",
       "32255    -0.475448       -0.420016   -0.266013    -0.192997   -0.089179   \n",
       "\n",
       "       seek_video  speed_change_video  stop_video  total_video new_labels  \n",
       "217     -0.239311           -0.171799   -0.122492    -0.282227          A  \n",
       "179      0.353524            0.234122   -0.084599    -0.130965          A  \n",
       "293     -0.077419            1.093020   -0.039367    -0.191040          A  \n",
       "294     -0.077419            1.093020   -0.039367    -0.191040          A  \n",
       "32255   -0.240071           -0.187544   -0.014703    -0.066163          A  "
      ]
     },
     "execution_count": 10,
     "metadata": {},
     "output_type": "execute_result"
    }
   ],
   "source": [
    "all_data_merged[all_data_merged.percent_grade == 100]"
   ]
  },
  {
   "cell_type": "code",
   "execution_count": 11,
   "metadata": {},
   "outputs": [
    {
     "data": {
      "image/png": "[encoded data removed]",
      "text/plain": [
       "<matplotlib.figure.Figure at 0x112cf2490>"
      ]
     },
     "metadata": {},
     "output_type": "display_data"
    }
   ],
   "source": [
    "sns.countplot(x='new_labels', data=all_data_merged)\n",
    "plt.savefig('grade_distr')"
   ]
  },
  {
   "cell_type": "code",
   "execution_count": 12,
   "metadata": {
    "collapsed": true
   },
   "outputs": [],
   "source": [
    "x_vis = all_data_merged[[ u'num_attempts', u'courseware', u'discussion',\n",
    "       u'download', u'problem', u'save_user_state', u'translation',\n",
    "       u'total_platform', u'load_video', u'pause_video', u'play_video',\n",
    "       u'seek_video', u'speed_change_video', u'stop_video', u'total_video']]\n",
    "y_vis = all_data_merged['percent_grade']"
   ]
  },
  {
   "cell_type": "markdown",
   "metadata": {},
   "source": [
    "## PCA to visualize features."
   ]
  },
  {
   "cell_type": "code",
   "execution_count": 13,
   "metadata": {
    "collapsed": true
   },
   "outputs": [],
   "source": [
    "from sklearn import decomposition\n",
    "np.random.seed(5)"
   ]
  },
  {
   "cell_type": "code",
   "execution_count": 14,
   "metadata": {},
   "outputs": [
    {
     "data": {
      "image/png": "[encoded data removed]",
      "text/plain": [
       "<matplotlib.figure.Figure at 0x112cf2b50>"
      ]
     },
     "metadata": {},
     "output_type": "display_data"
    }
   ],
   "source": [
    "pca = decomposition.PCA(n_components=1)\n",
    "# x = all_data\n",
    "pca.fit(x_vis)\n",
    "x_vis = pca.transform(x_vis)\n",
    "sns.set_style(\"whitegrid\")\n",
    "plt.ylabel(\"Derived Percent Grade.\")\n",
    "plt.xlabel(\"PCA tranformation of the features.\")\n",
    "plt.title(\"Training Data.\")\n",
    "plt.scatter(x_vis, y_vis, color='purple')\n",
    "# sns.lmplot(x=x_vis, y=y_vis)\n",
    "plt.savefig('data_vis.png')"
   ]
  },
  {
   "cell_type": "code",
   "execution_count": 15,
   "metadata": {
    "collapsed": true
   },
   "outputs": [],
   "source": [
    "def categorize(vector):\n",
    "    Y = []\n",
    "    for v in vector:\n",
    "        if v == 'A': \n",
    "            Y.append(0)\n",
    "        elif v == 'B':\n",
    "            Y.append(1)\n",
    "        elif v == 'C':\n",
    "            Y.append(2)\n",
    "        else:\n",
    "            Y.append(3)\n",
    "    return Y"
   ]
  },
  {
   "cell_type": "markdown",
   "metadata": {},
   "source": [
    "## Softmax Regression"
   ]
  },
  {
   "cell_type": "code",
   "execution_count": 16,
   "metadata": {
    "collapsed": true
   },
   "outputs": [],
   "source": [
    "from sklearn.metrics import confusion_matrix\n",
    "import itertools\n",
    "from sklearn.metrics import f1_score\n",
    "'''\n",
    "From sklearn's website\n",
    "'''\n",
    "def plot_confusion_matrix(cm, classes,\n",
    "                          normalize=False,\n",
    "                          title='Confusion matrix',\n",
    "                          cmap=plt.cm.Blues):\n",
    "    \"\"\"\n",
    "    This function prints and plots the confusion matrix.\n",
    "    Normalization can be applied by setting `normalize=True`.\n",
    "    \"\"\"\n",
    "    if normalize:\n",
    "        cm = cm.astype('float') / cm.sum(axis=1)[:, np.newaxis]\n",
    "        print(\"Normalized confusion matrix\")\n",
    "    else:\n",
    "        print('Confusion matrix, without normalization')\n",
    "\n",
    "    print(cm)\n",
    "\n",
    "    plt.imshow(cm, interpolation='nearest', cmap=cmap)\n",
    "    plt.title(title)\n",
    "    plt.colorbar()\n",
    "    tick_marks = np.arange(len(classes))\n",
    "    plt.xticks(tick_marks, classes, rotation=45)\n",
    "    plt.yticks(tick_marks, classes)\n",
    "\n",
    "    fmt = '.2f' if normalize else 'd'\n",
    "    thresh = cm.max() / 2.\n",
    "    for i, j in itertools.product(range(cm.shape[0]), range(cm.shape[1])):\n",
    "        plt.text(j, i, format(cm[i, j], fmt),\n",
    "                 horizontalalignment=\"center\",\n",
    "                 color=\"white\" if cm[i, j] > thresh else \"black\")\n",
    "\n",
    "    plt.tight_layout()\n",
    "    plt.ylabel('True label')\n",
    "    plt.xlabel('Predicted label')"
   ]
  },
  {
   "cell_type": "code",
   "execution_count": 17,
   "metadata": {
    "collapsed": true
   },
   "outputs": [],
   "source": [
    "def multinomial_logistic_reg(course):\n",
    "    training = pre_process(gen_training_data(course))\n",
    "    discretize(training)\n",
    "    Y = np.array(categorize(training['new_labels']))\n",
    "    X = training.drop(['percent_grade','id', 'new_labels'], axis=1).values\n",
    "    X_train, X_test, Y_train, Y_test = train_test_split(X, Y, test_size=0.15, random_state=13)\n",
    "    L = linear_model.LogisticRegression(penalty='l2', multi_class='multinomial', solver='newton-cg')\n",
    "    L.fit(X_train, Y_train)\n",
    "    train_score = L.score(X_train, Y_train)\n",
    "    s = L.score(X_test, Y_test)\n",
    "    Y_pred = L.predict(X_test)\n",
    "    print \"Training Accuracy = \", train_score\n",
    "    print \"Testing Accuracy = \", s\n",
    "    sns.set_style(\"whitegrid\", {'axes.grid' : False})\n",
    "    plt.figure()\n",
    "    confusion = confusion_matrix(Y_test, Y_pred)\n",
    "    plot_confusion_matrix(confusion, [\"A\", \"B\", \"C\", \"D\"])\n",
    "    plt.savefig('cnf_log.png')\n",
    "    \n",
    "    return f1_score(Y_test, Y_pred, average='weighted')"
   ]
  },
  {
   "cell_type": "code",
   "execution_count": 18,
   "metadata": {},
   "outputs": [
    {
     "name": "stdout",
     "output_type": "stream",
     "text": [
      "Training Accuracy =  0.821845395421\n",
      "Testing Accuracy =  0.818273599192\n",
      "Confusion matrix, without normalization\n",
      "[[   0    0    0    6]\n",
      " [   0    0    0   23]\n",
      " [   0    0    2 1050]\n",
      " [   0    0    1 4861]]\n"
     ]
    },
    {
     "name": "stderr",
     "output_type": "stream",
     "text": [
      "/usr/local/lib/python2.7/site-packages/sklearn/metrics/classification.py:1113: UndefinedMetricWarning: F-score is ill-defined and being set to 0.0 in labels with no predicted samples.\n",
      "  'precision', 'predicted', average, warn_for)\n"
     ]
    },
    {
     "data": {
      "text/plain": [
       "0.73698109472640339"
      ]
     },
     "execution_count": 18,
     "metadata": {},
     "output_type": "execute_result"
    },
    {
     "data": {
      "image/png": "[encoded data removed]",
      "text/plain": [
       "<matplotlib.figure.Figure at 0x116386690>"
      ]
     },
     "metadata": {},
     "output_type": "display_data"
    }
   ],
   "source": [
    "multinomial_logistic_reg('stats')\n",
    "# f1_softmax = [multinomial_logistic_reg(course) for course in courses]"
   ]
  },
  {
   "cell_type": "code",
   "execution_count": 19,
   "metadata": {
    "collapsed": true
   },
   "outputs": [],
   "source": [
    "from sklearn import svm\n",
    "def support_vector_classification(course=None, training=None, all_d=False):\n",
    "    if all_d is False:\n",
    "        training = pre_process(gen_training_data(course))\n",
    "    discretize(training)\n",
    "    Y = np.array(categorize(training['new_labels']))\n",
    "    X = training.drop(['percent_grade','id', 'new_labels'], axis=1).values\n",
    "    X_train, X_test, Y_train, Y_test = train_test_split(X, Y, test_size=0.15, random_state=13)\n",
    "    S = svm.SVC(kernel='rbf', C=5)\n",
    "    S.fit(X_train, Y_train)\n",
    "    tr_score = S.score(X_train, Y_train)\n",
    "    ts_score = S.score(X_test, Y_test)\n",
    "    Y_pred = S.predict(X_test)\n",
    "    \n",
    "    sns.set_style(\"whitegrid\", {'axes.grid' : False})\n",
    "    plt.figure()\n",
    "    confusion = confusion_matrix(Y_test, Y_pred)\n",
    "    plot_confusion_matrix(confusion, [\"A\", \"B\", \"C\", \"D\"])\n",
    "    plt.savefig('cnf_svm.png')\n",
    "    \n",
    "    return f1_score(Y_test, Y_pred, average='weighted')"
   ]
  },
  {
   "cell_type": "code",
   "execution_count": 20,
   "metadata": {},
   "outputs": [
    {
     "name": "stdout",
     "output_type": "stream",
     "text": [
      "Confusion matrix, without normalization\n",
      "[[   0    0    0    6]\n",
      " [   0    1    0   22]\n",
      " [   0    0   11 1041]\n",
      " [   0    0    6 4856]]\n"
     ]
    },
    {
     "data": {
      "text/plain": [
       "0.74054088836911602"
      ]
     },
     "execution_count": 20,
     "metadata": {},
     "output_type": "execute_result"
    },
    {
     "data": {
      "image/png": "[encoded data removed]",
      "text/plain": [
       "<matplotlib.figure.Figure at 0x1173a1510>"
      ]
     },
     "metadata": {},
     "output_type": "display_data"
    }
   ],
   "source": [
    "support_vector_classification('stats')\n",
    "# f1_svm = [support_vector_classification(course) for course in courses]"
   ]
  },
  {
   "cell_type": "code",
   "execution_count": null,
   "metadata": {
    "collapsed": true
   },
   "outputs": [],
   "source": []
  },
  {
   "cell_type": "code",
   "execution_count": 257,
   "metadata": {
    "collapsed": true
   },
   "outputs": [],
   "source": [
    "def plot_f1():\n",
    "    sns.set_style('whitegrid')\n",
    "    '''\n",
    "    Plotting code courtesy of \n",
    "    https://pythonspot.com/en/matplotlib-bar-chart/\n",
    "    '''\n",
    "    n_groups = 4\n",
    "    fig, ax = plt.subplots()\n",
    "    index = np.arange(n_groups)\n",
    "    bar_width = 0.35\n",
    "    opacity = 0.8\n",
    "\n",
    "    rects1 = plt.bar(\n",
    "        index, f1_softmax, bar_width, alpha=opacity,\n",
    "        color='red', label='Softmax'\n",
    "    )\n",
    "    rects2 = plt.bar(\n",
    "        index + bar_width, f1_svm, bar_width, \n",
    "        alpha=opacity,color='black',label='SVM'\n",
    "    )\n",
    "\n",
    "    plt.xlabel('Course')\n",
    "    plt.ylabel('F-1 Score')\n",
    "    plt.title('Performance on the 4 MOOCS')\n",
    "    plt.xticks(index + bar_width, courses)\n",
    "    plt.legend()\n",
    "    plt.tight_layout()\n",
    "    \n",
    "    plt.savefig('cls.png')\n",
    "    plt.show()"
   ]
  },
  {
   "cell_type": "code",
   "execution_count": 258,
   "metadata": {},
   "outputs": [
    {
     "data": {
      "image/png": "[encoded data removed]",
      "text/plain": [
       "<matplotlib.figure.Figure at 0x117809410>"
      ]
     },
     "metadata": {},
     "output_type": "display_data"
    }
   ],
   "source": [
    "plot_f1()"
   ]
  },
  {
   "cell_type": "code",
   "execution_count": null,
   "metadata": {
    "collapsed": true
   },
   "outputs": [],
   "source": []
  }
 ],
 "metadata": {
  "kernelspec": {
   "display_name": "Python 2",
   "language": "python",
   "name": "python2"
  },
  "language_info": {
   "codemirror_mode": {
    "name": "ipython",
    "version": 2
   },
   "file_extension": ".py",
   "mimetype": "text/x-python",
   "name": "python",
   "nbconvert_exporter": "python",
   "pygments_lexer": "ipython2",
   "version": "2.7.14"
  }
 },
 "nbformat": 4,
 "nbformat_minor": 2
}
